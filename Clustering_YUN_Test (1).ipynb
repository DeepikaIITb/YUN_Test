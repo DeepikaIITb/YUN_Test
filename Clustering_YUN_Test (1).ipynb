{
 "cells": [
  {
   "cell_type": "code",
   "execution_count": 15,
   "id": "f0f57fdd-2119-43ec-9f0c-a72049ad9b60",
   "metadata": {},
   "outputs": [],
   "source": [
    "import pandas as pd\n",
    "import numpy as np\n",
    "from sklearn.cluster import AgglomerativeClustering"
   ]
  },
  {
   "cell_type": "code",
   "execution_count": 16,
   "id": "9079fb48-11b7-4125-b07b-b14fad0b2b0e",
   "metadata": {},
   "outputs": [],
   "source": [
    "# Create a larger sample dataset\n",
    "data = {\n",
    "    'x': [1, 2, 2, 8, 8, 25, 24, 7, 5, 12, 30, 31, 29, 9, 3, 3],\n",
    "    'y': [2, 2, 3, 8, 9, 25, 24, 6, 7, 13, 28, 30, 27, 10, 3, 4]\n",
    "}\n",
    "df = pd.DataFrame(data)"
   ]
  },
  {
   "cell_type": "code",
   "execution_count": 17,
   "id": "df907a7d-9d06-42a4-9026-72291ccc2ccb",
   "metadata": {},
   "outputs": [],
   "source": [
    "# Prepare the data for clustering\n",
    "coordinates = df[['x', 'y']].to_numpy()"
   ]
  },
  {
   "cell_type": "code",
   "execution_count": 18,
   "id": "3601b493-dc69-43bc-85cf-08057aa37831",
   "metadata": {},
   "outputs": [],
   "source": [
    "# Perform Agglomerative Clustering\n",
    "# Set n_clusters=None and distance_threshold to group points based on distance\n",
    "agglo = AgglomerativeClustering(n_clusters=None, distance_threshold=5)  # Distance threshold = 5\n",
    "df['cluster'] = agglo.fit_predict(coordinates)\n"
   ]
  },
  {
   "cell_type": "code",
   "execution_count": 19,
   "id": "af2c8791-b163-41f1-9fe4-4b2caa81ae96",
   "metadata": {},
   "outputs": [
    {
     "name": "stdout",
     "output_type": "stream",
     "text": [
      "Dataframe with clusters:\n",
      "     x   y  cluster\n",
      "0    1   2        2\n",
      "1    2   2        2\n",
      "2    2   3        2\n",
      "3    8   8        5\n",
      "4    8   9        5\n",
      "5   25  25        3\n",
      "6   24  24        3\n",
      "7    7   6        1\n",
      "8    5   7        1\n",
      "9   12  13        4\n",
      "10  30  28        0\n",
      "11  31  30        0\n",
      "12  29  27        0\n",
      "13   9  10        5\n",
      "14   3   3        2\n",
      "15   3   4        2\n"
     ]
    }
   ],
   "source": [
    "# Output the dataframe with clusters\n",
    "print(\"Dataframe with clusters:\")\n",
    "print(df)"
   ]
  }
 ],
 "metadata": {
  "kernelspec": {
   "display_name": "Python 3 (ipykernel)",
   "language": "python",
   "name": "python3"
  },
  "language_info": {
   "codemirror_mode": {
    "name": "ipython",
    "version": 3
   },
   "file_extension": ".py",
   "mimetype": "text/x-python",
   "name": "python",
   "nbconvert_exporter": "python",
   "pygments_lexer": "ipython3",
   "version": "3.12.4"
  }
 },
 "nbformat": 4,
 "nbformat_minor": 5
}
