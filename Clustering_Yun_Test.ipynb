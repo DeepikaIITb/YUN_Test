{
 "cells": [
  {
   "cell_type": "code",
   "execution_count": 9,
   "id": "77758b44-05e9-451c-aec4-4f3469566275",
   "metadata": {},
   "outputs": [],
   "source": [
    "import pandas as pd\n",
    "import numpy as np\n",
    "from sklearn.cluster import DBSCAN\n",
    "from sklearn.preprocessing import StandardScaler"
   ]
  },
  {
   "cell_type": "code",
   "execution_count": 10,
   "id": "28670d82-a9ab-4124-a672-4c42ca45f2c0",
   "metadata": {},
   "outputs": [],
   "source": [
    "# Create a sample dataframe\n",
    "data = {\n",
    "    'x': [1, 2, 2, 8, 8, 25],\n",
    "    'y': [2, 2, 3, 8, 9, 25]\n",
    "}\n",
    "df = pd.DataFrame(data)"
   ]
  },
  {
   "cell_type": "code",
   "execution_count": 11,
   "id": "edeecd6f-7f46-4a0f-8b18-f90590c4b80c",
   "metadata": {},
   "outputs": [],
   "source": [
    "# Prepare the data for clustering\n",
    "coordinates = df[['x', 'y']].to_numpy()\n"
   ]
  },
  {
   "cell_type": "code",
   "execution_count": 12,
   "id": "237ef324-c9ba-453d-a9b1-4385cae169ef",
   "metadata": {},
   "outputs": [],
   "source": [
    "# Standardize the data (optional, depending on scale)\n",
    "scaler = StandardScaler()\n",
    "coordinates_scaled = scaler.fit_transform(coordinates)"
   ]
  },
  {
   "cell_type": "code",
   "execution_count": 13,
   "id": "076e486e-ad6b-4d0b-b8e4-e3ff3ed1565e",
   "metadata": {},
   "outputs": [],
   "source": [
    "# Perform DBSCAN clustering\n",
    "dbscan = DBSCAN(eps=0.5, min_samples=1)  # Adjust eps as needed\n",
    "df['cluster'] = dbscan.fit_predict(coordinates_scaled)\n"
   ]
  },
  {
   "cell_type": "code",
   "execution_count": 14,
   "id": "e6e8dd84-cd6d-4421-8241-1359db65bb68",
   "metadata": {},
   "outputs": [
    {
     "name": "stdout",
     "output_type": "stream",
     "text": [
      "Dataframe with clusters:\n",
      "    x   y  cluster\n",
      "0   1   2        0\n",
      "1   2   2        0\n",
      "2   2   3        0\n",
      "3   8   8        1\n",
      "4   8   9        1\n",
      "5  25  25        2\n"
     ]
    }
   ],
   "source": [
    "print(\"Dataframe with clusters:\")\n",
    "print(df)"
   ]
  },
  {
   "cell_type": "code",
   "execution_count": null,
   "id": "f0f57fdd-2119-43ec-9f0c-a72049ad9b60",
   "metadata": {},
   "outputs": [],
   "source": []
  }
 ],
 "metadata": {
  "kernelspec": {
   "display_name": "Python 3 (ipykernel)",
   "language": "python",
   "name": "python3"
  },
  "language_info": {
   "codemirror_mode": {
    "name": "ipython",
    "version": 3
   },
   "file_extension": ".py",
   "mimetype": "text/x-python",
   "name": "python",
   "nbconvert_exporter": "python",
   "pygments_lexer": "ipython3",
   "version": "3.12.4"
  }
 },
 "nbformat": 4,
 "nbformat_minor": 5
}
