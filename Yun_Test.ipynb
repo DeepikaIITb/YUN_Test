{
 "cells": [
  {
   "cell_type": "code",
   "execution_count": 5,
   "id": "acb33d2a-3b07-4681-9151-dd3d352a47aa",
   "metadata": {},
   "outputs": [],
   "source": [
    "import tensorflow as tf\n",
    "from tensorflow.keras.applications import ResNet50\n",
    "from tensorflow.keras.layers import Dense, Flatten, Dropout, GlobalAveragePooling2D\n",
    "from tensorflow.keras.models import Model\n",
    "from tensorflow.keras.preprocessing.image import ImageDataGenerator\n",
    "from tensorflow.keras.optimizers import Adam\n",
    "import zipfile\n",
    "import os\n",
    "import requests"
   ]
  },
  {
   "cell_type": "code",
   "execution_count": 12,
   "id": "aa5f258e-5341-4590-b40b-342cfa2b626f",
   "metadata": {},
   "outputs": [],
   "source": [
    "# Step 1: Ensure Dataset Directory Exists\n",
    "train_dir = \"C:\\\\Users\\\\deepi\\\\Downloads\\\\archive (2)\\\\train\"\n",
    "test_dir = \"C:\\\\Users\\\\deepi\\\\Downloads\\\\archive (2)\\\\test\""
   ]
  },
  {
   "cell_type": "code",
   "execution_count": 13,
   "id": "a1106c76-2877-4441-987d-c184df61baec",
   "metadata": {},
   "outputs": [],
   "source": [
    "# Step 2: Data Augmentation and Preprocessing\n",
    "data_gen = ImageDataGenerator(\n",
    "    rescale=1.0/255.0,\n",
    "    rotation_range=20,\n",
    "    width_shift_range=0.2,\n",
    "    height_shift_range=0.2,\n",
    "    shear_range=0.2,\n",
    "    zoom_range=0.2,\n",
    "    horizontal_flip=True,\n",
    "    fill_mode='nearest')"
   ]
  },
  {
   "cell_type": "code",
   "execution_count": 14,
   "id": "a5507bf8-31c9-4f04-b52e-b1e12cc9756d",
   "metadata": {},
   "outputs": [
    {
     "name": "stdout",
     "output_type": "stream",
     "text": [
      "Found 11431 images belonging to 4 classes.\n",
      "Found 7178 images belonging to 7 classes.\n"
     ]
    }
   ],
   "source": [
    "train_data = data_gen.flow_from_directory(\n",
    "    train_dir,\n",
    "    target_size=(224, 224),\n",
    "    batch_size=32,\n",
    "    class_mode='categorical')\n",
    "\n",
    "test_data = ImageDataGenerator(rescale=1.0/255.0).flow_from_directory(\n",
    "    test_dir,\n",
    "    target_size=(224, 224),\n",
    "    batch_size=32,\n",
    "    class_mode='categorical')\n"
   ]
  },
  {
   "cell_type": "code",
   "execution_count": 15,
   "id": "c9c7cf57-84d2-47e1-b760-ea41793492c7",
   "metadata": {},
   "outputs": [
    {
     "name": "stdout",
     "output_type": "stream",
     "text": [
      "Downloading data from https://storage.googleapis.com/tensorflow/keras-applications/resnet/resnet50_weights_tf_dim_ordering_tf_kernels_notop.h5\n",
      "\u001b[1m94765736/94765736\u001b[0m \u001b[32m━━━━━━━━━━━━━━━━━━━━\u001b[0m\u001b[37m\u001b[0m \u001b[1m9s\u001b[0m 0us/step\n"
     ]
    }
   ],
   "source": [
    "# Step 3: Load Pre-trained Model and Fine-Tune\n",
    "base_model = ResNet50(weights='imagenet', include_top=False, input_shape=(224, 224, 3))\n"
   ]
  },
  {
   "cell_type": "code",
   "execution_count": 16,
   "id": "b126d351-6fbd-4828-88b3-3e186c96b10d",
   "metadata": {},
   "outputs": [],
   "source": [
    "# Freeze base model layers\n",
    "for layer in base_model.layers:\n",
    "    layer.trainable = False"
   ]
  },
  {
   "cell_type": "code",
   "execution_count": 17,
   "id": "ca291d9e-208e-4195-9974-417957c72654",
   "metadata": {},
   "outputs": [],
   "source": [
    "# Add custom layers\n",
    "gap = GlobalAveragePooling2D()(base_model.output)\n",
    "dropout = Dropout(0.5)(gap)\n",
    "output_layer = Dense(train_data.num_classes, activation='softmax')(dropout)\n"
   ]
  },
  {
   "cell_type": "code",
   "execution_count": 18,
   "id": "fc4370e7-1b4b-4d31-a744-9b21c036b7f9",
   "metadata": {},
   "outputs": [],
   "source": [
    "model = Model(inputs=base_model.input, outputs=output_layer)\n"
   ]
  },
  {
   "cell_type": "code",
   "execution_count": 19,
   "id": "0fba6d3c-1b1f-46d1-9bc9-6873195d701a",
   "metadata": {},
   "outputs": [],
   "source": [
    "# Compile the model\n",
    "model.compile(\n",
    "    optimizer=Adam(learning_rate=0.0001),\n",
    "    loss='categorical_crossentropy',\n",
    "    metrics=['accuracy'])\n"
   ]
  },
  {
   "cell_type": "code",
   "execution_count": null,
   "id": "c2016afd-a085-4b5f-9f8a-fde754aac2e7",
   "metadata": {},
   "outputs": [
    {
     "name": "stdout",
     "output_type": "stream",
     "text": [
      "Epoch 1/10\n"
     ]
    },
    {
     "name": "stderr",
     "output_type": "stream",
     "text": [
      "C:\\Users\\deepi\\anaconda3\\Lib\\site-packages\\keras\\src\\trainers\\data_adapters\\py_dataset_adapter.py:122: UserWarning: Your `PyDataset` class should call `super().__init__(**kwargs)` in its constructor. `**kwargs` can include `workers`, `use_multiprocessing`, `max_queue_size`. Do not pass these arguments to `fit()`, as they will be ignored.\n",
      "  self._warn_if_super_not_called()\n"
     ]
    },
    {
     "name": "stdout",
     "output_type": "stream",
     "text": [
      "\u001b[1m 55/357\u001b[0m \u001b[32m━━━\u001b[0m\u001b[37m━━━━━━━━━━━━━━━━━\u001b[0m \u001b[1m9:06\u001b[0m 2s/step - accuracy: 0.2982 - loss: 1.5650"
     ]
    }
   ],
   "source": [
    "# Step 4: Train the Model\n",
    "history = model.fit(\n",
    "    train_data,\n",
    "    validation_data=test_data,\n",
    "    epochs=10,\n",
    "    steps_per_epoch=train_data.samples // train_data.batch_size,\n",
    "    validation_steps=test_data.samples // test_data.batch_size)"
   ]
  },
  {
   "cell_type": "code",
   "execution_count": null,
   "id": "aea33317-04af-4887-a989-fb8ea072416b",
   "metadata": {},
   "outputs": [],
   "source": [
    "# Step 5: Fine-Tuning (Unfreezing Layers for Better Performance)\n",
    "for layer in base_model.layers:\n",
    "    layer.trainable = True"
   ]
  },
  {
   "cell_type": "code",
   "execution_count": null,
   "id": "6becbc7c-b468-4003-b464-15df16c69392",
   "metadata": {},
   "outputs": [],
   "source": [
    "# Recompile with a lower learning rate\n",
    "model.compile(\n",
    "    optimizer=Adam(learning_rate=0.00001),\n",
    "    loss='categorical_crossentropy',\n",
    "    metrics=['accuracy'])"
   ]
  },
  {
   "cell_type": "code",
   "execution_count": null,
   "id": "4b36c0fd-1ade-4f7d-ae84-9d036856e0b3",
   "metadata": {},
   "outputs": [],
   "source": [
    "# Continue Training\n",
    "history_finetune = model.fit(\n",
    "    train_data,\n",
    "    validation_data=test_data,\n",
    "    epochs=10,\n",
    "    steps_per_epoch=train_data.samples // train_data.batch_size,\n",
    "    validation_steps=test_data.samples // test_data.batch_size)\n"
   ]
  },
  {
   "cell_type": "code",
   "execution_count": null,
   "id": "072fc7f1-259a-4d0e-a3ee-5510bd1051d0",
   "metadata": {},
   "outputs": [],
   "source": [
    "# Step 6: Save the Model\n",
    "model.save(\"emotion_recognition_resnet50.h5\")"
   ]
  },
  {
   "cell_type": "code",
   "execution_count": null,
   "id": "ca10c9e6-4970-4265-8bca-792d38198808",
   "metadata": {},
   "outputs": [],
   "source": [
    "# Step 7: Evaluate the Model\n",
    "loss, accuracy = model.evaluate(test_data)\n",
    "print(f\"Test Loss: {loss}, Test Accuracy: {accuracy}\")\n",
    "\n"
   ]
  },
  {
   "cell_type": "code",
   "execution_count": null,
   "id": "de4715a1-5b6b-43e3-aa86-4fee6ab31c58",
   "metadata": {},
   "outputs": [],
   "source": []
  },
  {
   "cell_type": "code",
   "execution_count": null,
   "id": "86cf80b0-dc40-4f46-b4ce-1a537177305c",
   "metadata": {},
   "outputs": [],
   "source": []
  }
 ],
 "metadata": {
  "kernelspec": {
   "display_name": "Python 3 (ipykernel)",
   "language": "python",
   "name": "python3"
  },
  "language_info": {
   "codemirror_mode": {
    "name": "ipython",
    "version": 3
   },
   "file_extension": ".py",
   "mimetype": "text/x-python",
   "name": "python",
   "nbconvert_exporter": "python",
   "pygments_lexer": "ipython3",
   "version": "3.12.4"
  }
 },
 "nbformat": 4,
 "nbformat_minor": 5
}
